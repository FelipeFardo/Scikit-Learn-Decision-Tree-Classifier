{
 "cells": [
  {
   "cell_type": "code",
   "execution_count": null,
   "metadata": {},
   "outputs": [],
   "source": [
    "# pipenv install pandas plotly matplotlib pingouin nbformat ipykernel scikit-learn optuna ipywidgets gradio\n",
    "\n",
    "# EDA\n",
    "import pandas as pd\n",
    "import pingouin as pg\n",
    "import plotly.express as px\n",
    "import plotly.figure_factory as ff\n",
    "import matplotlib.pyplot as plt\n",
    "\n",
    "# Machine Learning\n",
    "from sklearn.model_selection import cross_validate, StratifiedKFold, cross_val_predict, cross_val_score\n",
    "from sklearn.preprocessing import OneHotEncoder\n",
    "from sklearn.compose import ColumnTransformer\n",
    "from sklearn.pipeline import Pipeline\n",
    "from sklearn.impute import SimpleImputer\n",
    "from sklearn.tree import DecisionTreeClassifier, plot_tree\n",
    "from sklearn.metrics import confusion_matrix, classification_report, ConfusionMatrixDisplay\n",
    "\n",
    "# Otimização de Hiperparâmetros\n",
    "import optuna"
   ]
  },
  {
   "cell_type": "code",
   "execution_count": null,
   "metadata": {},
   "outputs": [],
   "source": [
    "# Carregar Dataset\n",
    "df_segmento = pd.read_csv('./datasets/dataset_segmento_clientes.csv')"
   ]
  },
  {
   "cell_type": "markdown",
   "metadata": {},
   "source": [
    "### EDA"
   ]
  },
  {
   "cell_type": "code",
   "execution_count": null,
   "metadata": {},
   "outputs": [],
   "source": [
    "# Visualizar os dados\n",
    "df_segmento.head(10)"
   ]
  },
  {
   "cell_type": "code",
   "execution_count": null,
   "metadata": {},
   "outputs": [],
   "source": [
    "# Estrutura do Dataset\n",
    "df_segmento.info()"
   ]
  },
  {
   "cell_type": "code",
   "execution_count": null,
   "metadata": {},
   "outputs": [],
   "source": [
    "# Valores possíveis - Variáveis Categóricas\n",
    "df_segmento['atividade_economica'].unique()"
   ]
  },
  {
   "cell_type": "code",
   "execution_count": null,
   "metadata": {},
   "outputs": [],
   "source": [
    "# Valores possíveis - Variáveis Categóricas\n",
    "df_segmento['localizacao'].unique()"
   ]
  },
  {
   "cell_type": "code",
   "execution_count": null,
   "metadata": {},
   "outputs": [],
   "source": [
    "# Valores possíveis - Variáveis Categóricas\n",
    "df_segmento['segmento_de_cliente'].unique()"
   ]
  },
  {
   "cell_type": "code",
   "execution_count": null,
   "metadata": {},
   "outputs": [],
   "source": [
    "# Valores possíveis - Variáveis Categóricas\n",
    "df_segmento['inovacao'].unique()"
   ]
  },
  {
   "cell_type": "code",
   "execution_count": null,
   "metadata": {},
   "outputs": [],
   "source": [
    "# Distribuição da Variável Segmento de Cliente (Target)\n",
    "contagem_target = df_segmento.value_counts('segmento_de_cliente')\n",
    "contagem_target"
   ]
  },
  {
   "cell_type": "code",
   "execution_count": null,
   "metadata": {},
   "outputs": [],
   "source": [
    "# Criar uma lista ordenada no target\n",
    "lista_segmentos = ['Starter', 'Bronze', 'Silver', 'Gold']"
   ]
  },
  {
   "cell_type": "code",
   "execution_count": null,
   "metadata": {},
   "outputs": [],
   "source": [
    "# Distribuição de Variáveis Target - Contagem\n",
    "px.bar(contagem_target, color=contagem_target.index, category_orders={'segmento_de_cliente': lista_segmentos})"
   ]
  },
  {
   "cell_type": "code",
   "execution_count": null,
   "metadata": {},
   "outputs": [],
   "source": [
    "# Distribuição de Variável Target - Percentual\n",
    "percentual_target = contagem_target / len(df_segmento) * 100\n",
    "\n",
    "px.bar(percentual_target, color=percentual_target.index, category_orders={'segmento_de_cliente': lista_segmentos})\n"
   ]
  },
  {
   "cell_type": "code",
   "execution_count": null,
   "metadata": {},
   "outputs": [],
   "source": [
    "# Distribuição de Variável Localização\n",
    "percentual_localizacao = df_segmento.value_counts('localizacao') / len(df_segmento) * 100\n",
    "px.bar(percentual_localizacao, color=percentual_localizacao.index)"
   ]
  },
  {
   "cell_type": "code",
   "execution_count": null,
   "metadata": {},
   "outputs": [],
   "source": [
    "# Distribuição de Variável Atividade Econômica\n",
    "percentual_atividade = df_segmento.value_counts('atividade_economica') / len(df_segmento) * 100\n",
    "px.bar(percentual_atividade, color=percentual_atividade.index)"
   ]
  },
  {
   "cell_type": "code",
   "execution_count": null,
   "metadata": {},
   "outputs": [],
   "source": [
    "# Distribuição de Variável Inovação\n",
    "percentual_inovacao = df_segmento.value_counts('inovacao') / len(df_segmento) * 100\n",
    "px.bar(percentual_inovacao, color=percentual_inovacao.index)"
   ]
  },
  {
   "cell_type": "code",
   "execution_count": null,
   "metadata": {},
   "outputs": [],
   "source": [
    "# Tabela de Contingência entre Localização e Target\n",
    "crosstab_localizacao = pd.crosstab(df_segmento['localizacao'], df_segmento['segmento_de_cliente'], margins=True)[lista_segmentos].reset_index()\n",
    "\n",
    "tabela_localizacao = ff.create_table(crosstab_localizacao)\n",
    "\n",
    "# Mostrar a Crosstab\n",
    "tabela_localizacao.show()"
   ]
  },
  {
   "cell_type": "code",
   "execution_count": null,
   "metadata": {},
   "outputs": [],
   "source": [
    "# Tabela de Contingência entre Atividade e Target\n",
    "crosstab_atividade= pd.crosstab(df_segmento['atividade_economica'], df_segmento['segmento_de_cliente'], margins=True)[lista_segmentos].reset_index()\n",
    "\n",
    "tabela_atividade = ff.create_table(crosstab_atividade)\n",
    "\n",
    "# Mostrar a Crosstab\n",
    "tabela_atividade.show()"
   ]
  },
  {
   "cell_type": "code",
   "execution_count": null,
   "metadata": {},
   "outputs": [],
   "source": [
    "# Tabela de Contingência entre Inovação e Target\n",
    "crosstab_inovacao= pd.crosstab(df_segmento['inovacao'], df_segmento['segmento_de_cliente'], margins=True)[lista_segmentos].reset_index()\n",
    "\n",
    "tabela_inovacao = ff.create_table(crosstab_inovacao)\n",
    "\n",
    "# Mostrar a Crosstab\n",
    "tabela_inovacao.show()"
   ]
  },
  {
   "cell_type": "code",
   "execution_count": null,
   "metadata": {},
   "outputs": [],
   "source": [
    "# Distribuição Idade da Empresa\n",
    "px.histogram(df_segmento, x='idade')"
   ]
  },
  {
   "cell_type": "code",
   "execution_count": null,
   "metadata": {},
   "outputs": [],
   "source": [
    "# Distribuição Faturamento Mensal\n",
    "px.histogram(df_segmento, x='faturamento_mensal')"
   ]
  },
  {
   "cell_type": "code",
   "execution_count": null,
   "metadata": {},
   "outputs": [],
   "source": [
    "# BoxPlot entre Idade e Segmento\n",
    "px.box(df_segmento, x='segmento_de_cliente', y='idade', color='segmento_de_cliente', category_orders={'segmento_de_cliente': lista_segmentos})"
   ]
  },
  {
   "cell_type": "code",
   "execution_count": null,
   "metadata": {},
   "outputs": [],
   "source": [
    "# BoxPlot entre Faturamento e Segmento\n",
    "px.box(df_segmento, x='segmento_de_cliente', y='faturamento_mensal', color='segmento_de_cliente', category_orders={'segmento_de_cliente': lista_segmentos})"
   ]
  },
  {
   "cell_type": "code",
   "execution_count": null,
   "metadata": {},
   "outputs": [],
   "source": [
    "# Teste de Qui-Quadrado de Pearson\n",
    "# H0 - as variáveis são independentes\n",
    "# H1 - as variaǘeis não são independentes\n",
    "valor_esperado, valor_observado, estatisticas = pg.chi2_independence(df_segmento, 'segmento_de_cliente', 'atividade_economica')"
   ]
  },
  {
   "cell_type": "code",
   "execution_count": null,
   "metadata": {},
   "outputs": [],
   "source": [
    "# Valor Esperado\n",
    "# É a frequência que seria esperada se não houvesse associação entre as variáveis\n",
    "# É calculado utilizando a distribuição assumida no teste de qui-quadrado\n",
    "# Se p-value > 0.05, aceita a hipótese nula, caso contrário rejeita\n",
    "valor_esperado"
   ]
  },
  {
   "cell_type": "code",
   "execution_count": null,
   "metadata": {},
   "outputs": [],
   "source": [
    "# Valor Observado\n",
    "# É a frequência real dos dados coletados\n",
    "valor_observado"
   ]
  },
  {
   "cell_type": "code",
   "execution_count": null,
   "metadata": {},
   "outputs": [],
   "source": [
    "# Estatísticas\n",
    "estatisticas.round(5)"
   ]
  },
  {
   "cell_type": "markdown",
   "metadata": {},
   "source": [
    "- As variáveis localização e segmento de clientes são independentes. Qui-Quadrado (p-value = 0.81714)\n",
    "- As variáveis atividade econômica e segmento de clientes são independentes. Qui-Quadrado (p-value = 0.0.35292)\n",
    "- As variáveis inovação e segmento não são independentes. Qui-Quadrado (p-value = 0.0)"
   ]
  },
  {
   "cell_type": "markdown",
   "metadata": {},
   "source": [
    "### Treinamento do Modelo"
   ]
  },
  {
   "cell_type": "code",
   "execution_count": null,
   "metadata": {},
   "outputs": [],
   "source": [
    "# Separar X e y\n",
    "X = df_segmento.drop(columns=['segmento_de_cliente'])\n",
    "y = df_segmento['segmento_de_cliente']"
   ]
  },
  {
   "cell_type": "code",
   "execution_count": null,
   "metadata": {},
   "outputs": [],
   "source": [
    "# Pipeline\n",
    "# OneHotEncode nas variáveis categóricas\n",
    "# Treinamento do Modelo\n",
    "\n",
    "# Lista de variáveis categóricas\n",
    "categorical_features = ['atividade_economica', 'localizacao']\n",
    "\n",
    "# Criar um transformador de variáveis categóricas usando OneHotEnconder\n",
    "categorical_transformer = Pipeline(steps=[\n",
    "  ('imputer', SimpleImputer(strategy='most_frequent')),\n",
    "  ('onehot', OneHotEncoder(handle_unknown='ignore')),\n",
    "])\n",
    "\n",
    "\n",
    "preprocessor = ColumnTransformer(\n",
    "  transformers=[\n",
    "    ('cat', categorical_transformer, categorical_features)\n",
    "  ]\n",
    ")\n",
    "\n",
    "# Pipeline com Pre-Processor e o Modelo de Arvore de Decisão\n",
    "dt_model = Pipeline(steps=[('preprocessor', preprocessor),('classifier', DecisionTreeClassifier())])"
   ]
  },
  {
   "cell_type": "markdown",
   "metadata": {},
   "source": [
    "### Validação Cruzada"
   ]
  },
  {
   "cell_type": "code",
   "execution_count": null,
   "metadata": {},
   "outputs": [],
   "source": [
    "# Treinar o Modelo com Validação Cruzada, usando o StratifiedKFold, dado que as classes estão desbalanceadas\n",
    "\n",
    "cv_folds = StratifiedKFold(n_splits=3, shuffle=True, random_state=51)\n",
    "metrics_results = cross_validate(dt_model, X, y, cv=cv_folds, scoring=['accuracy'], return_estimator=True)"
   ]
  },
  {
   "cell_type": "code",
   "execution_count": null,
   "metadata": {},
   "outputs": [],
   "source": [
    "# Mostrar Retorno do Cross Validation\n",
    "metrics_results"
   ]
  },
  {
   "cell_type": "code",
   "execution_count": null,
   "metadata": {},
   "outputs": [],
   "source": [
    "# Média da Acurácia, considerando os 3 splits\n",
    "metrics_results['test_accuracy'].mean()"
   ]
  },
  {
   "cell_type": "code",
   "execution_count": null,
   "metadata": {},
   "outputs": [],
   "source": [
    "# Acurácia\n",
    "# total de previsões corretas / total de previsões"
   ]
  },
  {
   "cell_type": "markdown",
   "metadata": {},
   "source": [
    "### Métricas"
   ]
  },
  {
   "cell_type": "code",
   "execution_count": null,
   "metadata": {},
   "outputs": [],
   "source": [
    "# Fazendo predições usando Cross Validation\n",
    "y_pred = cross_val_predict(dt_model, X, y, cv=cv_folds)"
   ]
  },
  {
   "cell_type": "code",
   "execution_count": null,
   "metadata": {},
   "outputs": [],
   "source": [
    "# Avalia o desempenho do modelo\n",
    "classification_report_str = classification_report(y,y_pred)\n",
    "\n",
    "print(f'Relatório de Classificação:\\n{classification_report_str}')"
   ]
  },
  {
   "cell_type": "code",
   "execution_count": null,
   "metadata": {},
   "outputs": [],
   "source": [
    "# Mostrar Matriz de Confusão\n",
    "confusion_matrix_modelo = confusion_matrix(y,y_pred,labels=lista_segmentos)\n",
    "disp = ConfusionMatrixDisplay(confusion_matrix_modelo, display_labels=lista_segmentos)\n",
    "disp.plot()"
   ]
  },
  {
   "cell_type": "markdown",
   "metadata": {},
   "source": [
    "### Tuning de Hiperparâmetros"
   ]
  },
  {
   "cell_type": "code",
   "execution_count": null,
   "metadata": {},
   "outputs": [],
   "source": [
    "# Ajustar hiperparâmetros do Moelo usando Optuna\n",
    "# min_samples_leaf = Mínimo de instâncias requerido para formar uma folha (nó terminal)\n",
    "# max_depth = Profundidade máxima da árvore\n",
    "\n",
    "def decisiontree_optuna(trial):\n",
    "  \n",
    "  min_samples_leaf = trial.suggest_int('min_samples_leaf', 1, 20)\n",
    "  max_depth = trial.suggest_int('max_depth', 2, 8)\n",
    "\n",
    "  dt_model.set_params(classifier__min_samples_leaf=min_samples_leaf)\n",
    "  dt_model.set_params(classifier__max_depth=max_depth)\n",
    "\n",
    "  scores = cross_val_score(dt_model,X,y, cv=cv_folds, scoring='accuracy')\n",
    "\n",
    "  return scores.mean()"
   ]
  },
  {
   "cell_type": "code",
   "execution_count": null,
   "metadata": {},
   "outputs": [],
   "source": [
    "# Executar a automação de Experimentos\n",
    "estudo_decisiontree = optuna.create_study(direction='maximize')\n",
    "estudo_decisiontree.optimize(decisiontree_optuna, n_trials=200)"
   ]
  },
  {
   "cell_type": "code",
   "execution_count": null,
   "metadata": {},
   "outputs": [],
   "source": [
    "# Mostrar melhor resultado e melhor conjunto de hiperparâmetros\n",
    "print(f'Melhor acurácia: {estudo_decisiontree.best_value}')\n",
    "print(f'Melhores parâmetros: {estudo_decisiontree.best_params}')"
   ]
  },
  {
   "cell_type": "markdown",
   "metadata": {},
   "source": [
    "\n",
    "### Visualizar Árvore"
   ]
  },
  {
   "cell_type": "code",
   "execution_count": null,
   "metadata": {},
   "outputs": [],
   "source": [
    "# Preparar o COnjunto de Dados para treinar e conseguir visualizar a árvore\n",
    "X_train_tree = X.copy()\n",
    "X_train_tree['localizacao_label'] = X_train_tree.localizacao.astype('category').cat.codes\n",
    "X_train_tree['atividade_economica_label'] = X_train_tree.atividade_economica.astype('category').cat.codes\n",
    "X_train_tree.drop(columns=['localizacao', 'atividade_economica'], axis=1, inplace=True)\n",
    "X_train_tree.rename(columns={'localizacao_label': 'localizacao', 'atividade_economica_label': 'atividade_economica'}, inplace=True)\n",
    "X_train_tree.head(10)"
   ]
  },
  {
   "cell_type": "code",
   "execution_count": null,
   "metadata": {},
   "outputs": [],
   "source": [
    "# Treinar o modelo com o conjunto de hiperparâmetros ideal\n",
    "\n",
    "clf_decision_tree = DecisionTreeClassifier(min_samples_leaf=estudo_decisiontree.best_params['min_samples_leaf'], max_depth=estudo_decisiontree.best_params['max_depth'])\n",
    "\n",
    "y_train_tree = y.copy()\n",
    "clf_decision_tree.fit(X_train_tree, y_train_tree)"
   ]
  },
  {
   "cell_type": "code",
   "execution_count": null,
   "metadata": {},
   "outputs": [],
   "source": [
    "# Visualizar Árvore de Decisão com Plot Tree\n",
    "fig, axes = plt.subplots(nrows=1, ncols=1, figsize=(10,10), dpi=600)\n",
    "\n",
    "plot_tree(clf_decision_tree,\n",
    "          feature_names=X_train_tree.columns.to_numpy(),\n",
    "          class_names=lista_segmentos,\n",
    "          filled=True\n",
    "          )"
   ]
  },
  {
   "cell_type": "markdown",
   "metadata": {},
   "source": [
    "### Salvar Modelo"
   ]
  },
  {
   "cell_type": "code",
   "execution_count": null,
   "metadata": {},
   "outputs": [],
   "source": [
    "import joblib\n",
    "\n",
    "# Criar um pipeline \"tunado\"\n",
    "dt_model_tunado = Pipeline(steps = [('preprocessor', preprocessor),\n",
    "                                    ('classifier',\n",
    "                                     DecisionTreeClassifier(min_samples_leaf=estudo_decisiontree.best_params['min_samples_leaf'], max_depth=estudo_decisiontree.best_params['max_depth']))\n",
    "                                    ])\n",
    "\n",
    "# Treinar Modelo Tunado\n",
    "dt_model_tunado.fit(X, y)\n",
    "\n",
    "# Salvar Modelo\n",
    "joblib.dump(dt_model_tunado, 'modelo_classificacao_decision_tree.pkl')"
   ]
  },
  {
   "cell_type": "markdown",
   "metadata": {},
   "source": [
    "### Entregar modelo como App de Predição Batch (por arquivo)"
   ]
  },
  {
   "cell_type": "code",
   "execution_count": null,
   "metadata": {},
   "outputs": [],
   "source": [
    "import gradio as gr\n",
    "\n",
    "modelo = joblib.load('./modelo_classificacao_decision_tree.pkl')\n",
    "\n",
    "def predict(arquivo):\n",
    "  df_empresas = pd.read_csv(arquivo.name)\n",
    "  y_pred = modelo.predict(df_empresas)\n",
    "  df_segmentos = pd.DataFrame(y_pred, columns=['segmento_de_cliente'])\n",
    "  df_predicoes = pd.concat([df_empresas, df_segmentos], axis=1)\n",
    "  df_predicoes.to_csv('./predicoes.csv', index=False)\n",
    "  return './predicoes.csv'\n",
    "\n",
    "demo = gr.Interface(\n",
    "  predict,\n",
    "  gr.File(file_types=[\".csv\"]),\n",
    "  'file'\n",
    ")\n",
    "\n",
    "\n",
    "demo.launch()\n"
   ]
  }
 ],
 "metadata": {
  "kernelspec": {
   "display_name": "classificacao_segmento_empresa-ODTvbfoQ",
   "language": "python",
   "name": "python3"
  },
  "language_info": {
   "codemirror_mode": {
    "name": "ipython",
    "version": 3
   },
   "file_extension": ".py",
   "mimetype": "text/x-python",
   "name": "python",
   "nbconvert_exporter": "python",
   "pygments_lexer": "ipython3",
   "version": "3.9.15"
  }
 },
 "nbformat": 4,
 "nbformat_minor": 2
}
